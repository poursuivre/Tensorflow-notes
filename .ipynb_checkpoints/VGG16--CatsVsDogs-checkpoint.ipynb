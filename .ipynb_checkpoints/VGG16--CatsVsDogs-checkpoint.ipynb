{
 "cells": [
  {
   "cell_type": "markdown",
   "metadata": {},
   "source": [
    "### 方法一：独立的密集连接分类器"
   ]
  },
  {
   "cell_type": "code",
   "execution_count": 1,
   "metadata": {
    "scrolled": true
   },
   "outputs": [
    {
     "name": "stderr",
     "output_type": "stream",
     "text": [
      "Using TensorFlow backend.\n"
     ]
    },
    {
     "name": "stdout",
     "output_type": "stream",
     "text": [
      "_________________________________________________________________\n",
      "Layer (type)                 Output Shape              Param #   \n",
      "=================================================================\n",
      "input_1 (InputLayer)         (None, 150, 150, 3)       0         \n",
      "_________________________________________________________________\n",
      "block1_conv1 (Conv2D)        (None, 150, 150, 64)      1792      \n",
      "_________________________________________________________________\n",
      "block1_conv2 (Conv2D)        (None, 150, 150, 64)      36928     \n",
      "_________________________________________________________________\n",
      "block1_pool (MaxPooling2D)   (None, 75, 75, 64)        0         \n",
      "_________________________________________________________________\n",
      "block2_conv1 (Conv2D)        (None, 75, 75, 128)       73856     \n",
      "_________________________________________________________________\n",
      "block2_conv2 (Conv2D)        (None, 75, 75, 128)       147584    \n",
      "_________________________________________________________________\n",
      "block2_pool (MaxPooling2D)   (None, 37, 37, 128)       0         \n",
      "_________________________________________________________________\n",
      "block3_conv1 (Conv2D)        (None, 37, 37, 256)       295168    \n",
      "_________________________________________________________________\n",
      "block3_conv2 (Conv2D)        (None, 37, 37, 256)       590080    \n",
      "_________________________________________________________________\n",
      "block3_conv3 (Conv2D)        (None, 37, 37, 256)       590080    \n",
      "_________________________________________________________________\n",
      "block3_pool (MaxPooling2D)   (None, 18, 18, 256)       0         \n",
      "_________________________________________________________________\n",
      "block4_conv1 (Conv2D)        (None, 18, 18, 512)       1180160   \n",
      "_________________________________________________________________\n",
      "block4_conv2 (Conv2D)        (None, 18, 18, 512)       2359808   \n",
      "_________________________________________________________________\n",
      "block4_conv3 (Conv2D)        (None, 18, 18, 512)       2359808   \n",
      "_________________________________________________________________\n",
      "block4_pool (MaxPooling2D)   (None, 9, 9, 512)         0         \n",
      "_________________________________________________________________\n",
      "block5_conv1 (Conv2D)        (None, 9, 9, 512)         2359808   \n",
      "_________________________________________________________________\n",
      "block5_conv2 (Conv2D)        (None, 9, 9, 512)         2359808   \n",
      "_________________________________________________________________\n",
      "block5_conv3 (Conv2D)        (None, 9, 9, 512)         2359808   \n",
      "_________________________________________________________________\n",
      "block5_pool (MaxPooling2D)   (None, 4, 4, 512)         0         \n",
      "=================================================================\n",
      "Total params: 14,714,688\n",
      "Trainable params: 14,714,688\n",
      "Non-trainable params: 0\n",
      "_________________________________________________________________\n"
     ]
    }
   ],
   "source": [
    "from keras.applications import VGG16\n",
    "\n",
    "conv_base = VGG16(weights='imagenet',\n",
    "                  include_top=False,\n",
    "                  input_shape=(150, 150, 3))\n",
    "conv_base.summary()"
   ]
  },
  {
   "cell_type": "code",
   "execution_count": 3,
   "metadata": {},
   "outputs": [
    {
     "name": "stdout",
     "output_type": "stream",
     "text": [
      "Found 2000 images belonging to 2 classes.\n",
      "Found 1000 images belonging to 2 classes.\n",
      "Found 1000 images belonging to 2 classes.\n"
     ]
    }
   ],
   "source": [
    "import os\n",
    "import numpy as np\n",
    "from keras.preprocessing.image import ImageDataGenerator\n",
    "\n",
    "base_dir = '/home/poursuivre/下载/cats_and_dogs_small'\n",
    "train_dir = os.path.join(base_dir, 'train')\n",
    "validation_dir = os.path.join(base_dir, 'validation')\n",
    "test_dir = os.path.join(base_dir, 'test')\n",
    "\n",
    "datagen = ImageDataGenerator(rescale=1./255)\n",
    "batch_size = 20\n",
    "\n",
    "def extract_features(directory, sample_count):\n",
    "    features = np.zeros(shape=(sample_count, 4, 4, 512))\n",
    "    labels = np.zeros(shape=(sample_count))\n",
    "    generator = datagen.flow_from_directory(\n",
    "        directory,\n",
    "        target_size=(150, 150),\n",
    "        batch_size=batch_size,\n",
    "        class_mode='binary')\n",
    "    i = 0\n",
    "    for inputs_batch, labels_batch in generator:\n",
    "        features_batch = conv_base.predict(inputs_batch)\n",
    "        features[i * batch_size : (i + 1)* batch_size] = features_batch\n",
    "        labels[i * batch_size : (i + 1)* batch_size] = labels_batch\n",
    "        i += 1\n",
    "        if i*batch_size >= sample_count:\n",
    "            break\n",
    "    return features, labels\n",
    "\n",
    "train_features, train_labels = extract_features(train_dir, 2000)\n",
    "validation_features, validation_labels = extract_features(validation_dir, 1000)\n",
    "test_features, test_labels = extract_features(test_dir, 1000)"
   ]
  },
  {
   "cell_type": "code",
   "execution_count": 4,
   "metadata": {},
   "outputs": [],
   "source": [
    "train_features = np.reshape(train_features, (2000, 4*4*512))\n",
    "validation_features = np.reshape(validation_features, (1000, 4*4*512))\n",
    "test_features = np.reshape(test_features, (1000, 4*4*512))"
   ]
  },
  {
   "cell_type": "code",
   "execution_count": 5,
   "metadata": {},
   "outputs": [
    {
     "name": "stdout",
     "output_type": "stream",
     "text": [
      "Train on 2000 samples, validate on 1000 samples\n",
      "Epoch 1/30\n",
      "2000/2000 [==============================] - 2s 785us/step - loss: 0.6441 - acc: 0.6360 - val_loss: 0.4578 - val_acc: 0.8330\n",
      "Epoch 2/30\n",
      "2000/2000 [==============================] - 1s 634us/step - loss: 0.4424 - acc: 0.7970 - val_loss: 0.3694 - val_acc: 0.8700\n",
      "Epoch 3/30\n",
      "2000/2000 [==============================] - 1s 686us/step - loss: 0.3692 - acc: 0.8390 - val_loss: 0.3331 - val_acc: 0.8740\n",
      "Epoch 4/30\n",
      "2000/2000 [==============================] - 1s 650us/step - loss: 0.3227 - acc: 0.8695 - val_loss: 0.3015 - val_acc: 0.8860\n",
      "Epoch 5/30\n",
      "2000/2000 [==============================] - 1s 682us/step - loss: 0.2930 - acc: 0.8845 - val_loss: 0.2978 - val_acc: 0.8800\n",
      "Epoch 6/30\n",
      "2000/2000 [==============================] - 1s 665us/step - loss: 0.2615 - acc: 0.8985 - val_loss: 0.2742 - val_acc: 0.9040\n",
      "Epoch 7/30\n",
      "2000/2000 [==============================] - 1s 664us/step - loss: 0.2514 - acc: 0.9020 - val_loss: 0.2660 - val_acc: 0.8950\n",
      "Epoch 8/30\n",
      "2000/2000 [==============================] - 1s 657us/step - loss: 0.2437 - acc: 0.9070 - val_loss: 0.2584 - val_acc: 0.9010\n",
      "Epoch 9/30\n",
      "2000/2000 [==============================] - 1s 673us/step - loss: 0.2248 - acc: 0.9150 - val_loss: 0.2534 - val_acc: 0.9080\n",
      "Epoch 10/30\n",
      "2000/2000 [==============================] - 1s 681us/step - loss: 0.2098 - acc: 0.9235 - val_loss: 0.2486 - val_acc: 0.9070\n",
      "Epoch 11/30\n",
      "2000/2000 [==============================] - 1s 698us/step - loss: 0.2020 - acc: 0.9260 - val_loss: 0.2446 - val_acc: 0.9080\n",
      "Epoch 12/30\n",
      "2000/2000 [==============================] - 1s 654us/step - loss: 0.1883 - acc: 0.9310 - val_loss: 0.2434 - val_acc: 0.9050\n",
      "Epoch 13/30\n",
      "2000/2000 [==============================] - 1s 683us/step - loss: 0.1772 - acc: 0.9355 - val_loss: 0.2410 - val_acc: 0.9040\n",
      "Epoch 14/30\n",
      "2000/2000 [==============================] - 1s 665us/step - loss: 0.1685 - acc: 0.9400 - val_loss: 0.2411 - val_acc: 0.9050\n",
      "Epoch 15/30\n",
      "2000/2000 [==============================] - 1s 712us/step - loss: 0.1664 - acc: 0.9445 - val_loss: 0.2388 - val_acc: 0.9040\n",
      "Epoch 16/30\n",
      "2000/2000 [==============================] - 2s 758us/step - loss: 0.1537 - acc: 0.9485 - val_loss: 0.2381 - val_acc: 0.9040\n",
      "Epoch 17/30\n",
      "2000/2000 [==============================] - 1s 698us/step - loss: 0.1469 - acc: 0.9525 - val_loss: 0.2412 - val_acc: 0.9010\n",
      "Epoch 18/30\n",
      "2000/2000 [==============================] - 1s 686us/step - loss: 0.1401 - acc: 0.9490 - val_loss: 0.2353 - val_acc: 0.9040\n",
      "Epoch 19/30\n",
      "2000/2000 [==============================] - 1s 660us/step - loss: 0.1310 - acc: 0.9525 - val_loss: 0.2360 - val_acc: 0.9010\n",
      "Epoch 20/30\n",
      "2000/2000 [==============================] - 1s 670us/step - loss: 0.1311 - acc: 0.9590 - val_loss: 0.2358 - val_acc: 0.9040\n",
      "Epoch 21/30\n",
      "2000/2000 [==============================] - 1s 673us/step - loss: 0.1228 - acc: 0.9615 - val_loss: 0.2363 - val_acc: 0.9040\n",
      "Epoch 22/30\n",
      "2000/2000 [==============================] - 1s 658us/step - loss: 0.1214 - acc: 0.9595 - val_loss: 0.2368 - val_acc: 0.9030\n",
      "Epoch 23/30\n",
      "2000/2000 [==============================] - 1s 679us/step - loss: 0.1118 - acc: 0.9650 - val_loss: 0.2469 - val_acc: 0.9020\n",
      "Epoch 24/30\n",
      "2000/2000 [==============================] - 1s 685us/step - loss: 0.1142 - acc: 0.9605 - val_loss: 0.2470 - val_acc: 0.8990\n",
      "Epoch 25/30\n",
      "2000/2000 [==============================] - 1s 676us/step - loss: 0.1007 - acc: 0.9660 - val_loss: 0.2394 - val_acc: 0.9020\n",
      "Epoch 26/30\n",
      "2000/2000 [==============================] - 1s 670us/step - loss: 0.0980 - acc: 0.9695 - val_loss: 0.2463 - val_acc: 0.9000\n",
      "Epoch 27/30\n",
      "2000/2000 [==============================] - 1s 733us/step - loss: 0.0996 - acc: 0.9695 - val_loss: 0.2390 - val_acc: 0.9050\n",
      "Epoch 28/30\n",
      "2000/2000 [==============================] - 2s 756us/step - loss: 0.0958 - acc: 0.9695 - val_loss: 0.2481 - val_acc: 0.8990\n",
      "Epoch 29/30\n",
      "2000/2000 [==============================] - 1s 654us/step - loss: 0.0913 - acc: 0.9730 - val_loss: 0.2400 - val_acc: 0.9050\n",
      "Epoch 30/30\n",
      "2000/2000 [==============================] - 1s 647us/step - loss: 0.0834 - acc: 0.9765 - val_loss: 0.2504 - val_acc: 0.9000\n"
     ]
    }
   ],
   "source": [
    "from keras import models\n",
    "from keras import layers\n",
    "from keras import optimizers\n",
    "\n",
    "model = models.Sequential()\n",
    "model.add(layers.Dense(256, activation='relu', input_dim=4*4*512))\n",
    "model.add(layers.Dropout(0.5))\n",
    "model.add(layers.Dense(1, activation='sigmoid'))\n",
    "\n",
    "model.compile(optimizer=optimizers.RMSprop(lr=2e-5),\n",
    "              loss='binary_crossentropy',\n",
    "              metrics=['acc'])\n",
    "history = model.fit(train_features, train_labels, epochs=30, batch_size=20,\n",
    "                   validation_data=(validation_features, validation_labels))"
   ]
  },
  {
   "cell_type": "code",
   "execution_count": 7,
   "metadata": {},
   "outputs": [
    {
     "data": {
      "image/png": "[encoded data removed]",
      "text/plain": [
       "<matplotlib.figure.Figure at 0x7fd4bedeca20>"
      ]
     },
     "metadata": {
      "needs_background": "light"
     },
     "output_type": "display_data"
    },
    {
     "data": {
      "image/png": "[encoded data removed]",
      "text/plain": [
       "<matplotlib.figure.Figure at 0x7fd4bed6d710>"
      ]
     },
     "metadata": {
      "needs_background": "light"
     },
     "output_type": "display_data"
    }
   ],
   "source": [
    "import matplotlib.pyplot as plt\n",
    "\n",
    "acc = history.history['acc']\n",
    "val_acc = history.history['val_acc']\n",
    "loss = history.history['loss']\n",
    "val_loss = history.history['val_loss']\n",
    "\n",
    "epochs = range(1, 1+len(acc))\n",
    "\n",
    "plt.plot(epochs, acc, 'bo', label='Training acc')\n",
    "plt.plot(epochs, val_acc, 'b', label='Validation acc')\n",
    "plt.title('Training and Validation accuracy')\n",
    "plt.legend()\n",
    "\n",
    "plt.figure()\n",
    "\n",
    "plt.plot(epochs, loss, 'bo', label='Training loss')\n",
    "plt.plot(epochs, val_loss, 'b', label='Validation loss')\n",
    "plt.title('Training and Validation loss')\n",
    "plt.legend()\n",
    "\n",
    "plt.show()"
   ]
  },
  {
   "cell_type": "markdown",
   "metadata": {},
   "source": [
    "### 方法二：扩展conv_base模型（计算量较大）"
   ]
  },
  {
   "cell_type": "code",
   "execution_count": 8,
   "metadata": {},
   "outputs": [],
   "source": [
    "from keras import models\n",
    "from keras import layers\n",
    "\n",
    "model = models.Sequential()\n",
    "model.add(conv_base)\n",
    "model.add(layers.Flatten())\n",
    "model.add(layers.Dense(256, activation='relu'))\n",
    "model.add(layers.Dense(1, activation='sigmoid'))"
   ]
  },
  {
   "cell_type": "code",
   "execution_count": 9,
   "metadata": {},
   "outputs": [
    {
     "name": "stdout",
     "output_type": "stream",
     "text": [
      "_________________________________________________________________\n",
      "Layer (type)                 Output Shape              Param #   \n",
      "=================================================================\n",
      "vgg16 (Model)                (None, 4, 4, 512)         14714688  \n",
      "_________________________________________________________________\n",
      "flatten_1 (Flatten)          (None, 8192)              0         \n",
      "_________________________________________________________________\n",
      "dense_3 (Dense)              (None, 256)               2097408   \n",
      "_________________________________________________________________\n",
      "dense_4 (Dense)              (None, 1)                 257       \n",
      "=================================================================\n",
      "Total params: 16,812,353\n",
      "Trainable params: 16,812,353\n",
      "Non-trainable params: 0\n",
      "_________________________________________________________________\n"
     ]
    }
   ],
   "source": [
    "model.summary()"
   ]
  },
  {
   "cell_type": "code",
   "execution_count": 10,
   "metadata": {},
   "outputs": [
    {
     "name": "stdout",
     "output_type": "stream",
     "text": [
      "This is the number of trainable weightsbefore freezing the conv base: 30\n"
     ]
    }
   ],
   "source": [
    "print('This is the number of trainable weights'\n",
    "      'before freezing the conv base:', len(model.trainable_weights))"
   ]
  },
  {
   "cell_type": "code",
   "execution_count": 12,
   "metadata": {},
   "outputs": [
    {
     "name": "stdout",
     "output_type": "stream",
     "text": [
      "This is the number of trainable weightsafter freezing the conv base: 4\n"
     ]
    }
   ],
   "source": [
    "conv_base.trainable = False    #冻结卷积基\n",
    "print('This is the number of trainable weights'\n",
    "      'after freezing the conv base:', len(model.trainable_weights))"
   ]
  },
  {
   "cell_type": "markdown",
   "metadata": {},
   "source": [
    "#### tips：应在冻结权重以后再进行模型编译"
   ]
  },
  {
   "cell_type": "code",
   "execution_count": 13,
   "metadata": {},
   "outputs": [
    {
     "name": "stdout",
     "output_type": "stream",
     "text": [
      "Found 2000 images belonging to 2 classes.\n",
      "Found 1000 images belonging to 2 classes.\n",
      "Epoch 1/30\n",
      "100/100 [==============================] - 61s 611ms/step - loss: 0.6045 - acc: 0.6755 - val_loss: 0.4460 - val_acc: 0.8250\n",
      "Epoch 2/30\n",
      "100/100 [==============================] - 61s 608ms/step - loss: 0.4806 - acc: 0.7800 - val_loss: 0.3625 - val_acc: 0.8470\n",
      "Epoch 3/30\n",
      "100/100 [==============================] - 61s 609ms/step - loss: 0.4291 - acc: 0.8045 - val_loss: 0.3224 - val_acc: 0.8730\n",
      "Epoch 4/30\n",
      "100/100 [==============================] - 61s 608ms/step - loss: 0.3996 - acc: 0.8260 - val_loss: 0.3178 - val_acc: 0.8690\n",
      "Epoch 5/30\n",
      "100/100 [==============================] - 61s 612ms/step - loss: 0.3854 - acc: 0.8280 - val_loss: 0.2855 - val_acc: 0.8900\n",
      "Epoch 6/30\n",
      "100/100 [==============================] - 61s 609ms/step - loss: 0.3586 - acc: 0.8420 - val_loss: 0.2744 - val_acc: 0.8910\n",
      "Epoch 7/30\n",
      "100/100 [==============================] - 61s 610ms/step - loss: 0.3557 - acc: 0.8400 - val_loss: 0.2671 - val_acc: 0.8940\n",
      "Epoch 8/30\n",
      "100/100 [==============================] - 61s 612ms/step - loss: 0.3365 - acc: 0.8600 - val_loss: 0.2615 - val_acc: 0.9010\n",
      "Epoch 9/30\n",
      "100/100 [==============================] - 61s 609ms/step - loss: 0.3323 - acc: 0.8520 - val_loss: 0.2612 - val_acc: 0.9010\n",
      "Epoch 10/30\n",
      "100/100 [==============================] - 62s 616ms/step - loss: 0.3391 - acc: 0.8580 - val_loss: 0.2608 - val_acc: 0.8930\n",
      "Epoch 11/30\n",
      "100/100 [==============================] - 61s 614ms/step - loss: 0.3194 - acc: 0.8655 - val_loss: 0.2646 - val_acc: 0.8890\n",
      "Epoch 12/30\n",
      "100/100 [==============================] - 61s 612ms/step - loss: 0.3311 - acc: 0.8590 - val_loss: 0.2508 - val_acc: 0.9000\n",
      "Epoch 13/30\n",
      "100/100 [==============================] - 62s 615ms/step - loss: 0.3332 - acc: 0.8550 - val_loss: 0.2517 - val_acc: 0.8980\n",
      "Epoch 14/30\n",
      "100/100 [==============================] - 61s 613ms/step - loss: 0.3231 - acc: 0.8595 - val_loss: 0.2444 - val_acc: 0.9040\n",
      "Epoch 15/30\n",
      "100/100 [==============================] - 62s 617ms/step - loss: 0.3099 - acc: 0.8655 - val_loss: 0.2505 - val_acc: 0.9040\n",
      "Epoch 16/30\n",
      "100/100 [==============================] - 62s 616ms/step - loss: 0.3040 - acc: 0.8680 - val_loss: 0.2404 - val_acc: 0.9040\n",
      "Epoch 17/30\n",
      "100/100 [==============================] - 60s 602ms/step - loss: 0.3193 - acc: 0.8605 - val_loss: 0.2379 - val_acc: 0.9040\n",
      "Epoch 18/30\n",
      "100/100 [==============================] - 60s 601ms/step - loss: 0.2992 - acc: 0.8700 - val_loss: 0.2391 - val_acc: 0.9090\n",
      "Epoch 19/30\n",
      "100/100 [==============================] - 61s 608ms/step - loss: 0.3049 - acc: 0.8615 - val_loss: 0.2397 - val_acc: 0.9070\n",
      "Epoch 20/30\n",
      "100/100 [==============================] - 60s 605ms/step - loss: 0.2993 - acc: 0.8685 - val_loss: 0.2424 - val_acc: 0.8970\n",
      "Epoch 21/30\n",
      "100/100 [==============================] - 60s 602ms/step - loss: 0.2958 - acc: 0.8770 - val_loss: 0.2403 - val_acc: 0.9080\n",
      "Epoch 22/30\n",
      "100/100 [==============================] - 60s 602ms/step - loss: 0.2890 - acc: 0.8720 - val_loss: 0.2405 - val_acc: 0.9050\n",
      "Epoch 23/30\n",
      "100/100 [==============================] - 61s 612ms/step - loss: 0.2949 - acc: 0.8675 - val_loss: 0.2386 - val_acc: 0.9060\n",
      "Epoch 24/30\n",
      "100/100 [==============================] - 61s 609ms/step - loss: 0.2779 - acc: 0.8825 - val_loss: 0.2376 - val_acc: 0.9100\n",
      "Epoch 25/30\n",
      "100/100 [==============================] - 61s 608ms/step - loss: 0.2859 - acc: 0.8775 - val_loss: 0.2352 - val_acc: 0.9140\n",
      "Epoch 26/30\n",
      "100/100 [==============================] - 61s 612ms/step - loss: 0.2834 - acc: 0.8820 - val_loss: 0.2375 - val_acc: 0.9090\n",
      "Epoch 27/30\n",
      "100/100 [==============================] - 62s 619ms/step - loss: 0.2901 - acc: 0.8690 - val_loss: 0.2367 - val_acc: 0.9080\n",
      "Epoch 28/30\n",
      "100/100 [==============================] - 61s 610ms/step - loss: 0.2810 - acc: 0.8800 - val_loss: 0.2345 - val_acc: 0.9080\n",
      "Epoch 29/30\n",
      "100/100 [==============================] - 61s 610ms/step - loss: 0.2882 - acc: 0.8710 - val_loss: 0.2365 - val_acc: 0.9060\n",
      "Epoch 30/30\n",
      "100/100 [==============================] - 62s 622ms/step - loss: 0.2947 - acc: 0.8705 - val_loss: 0.2393 - val_acc: 0.9100\n"
     ]
    }
   ],
   "source": [
    "from keras.preprocessing.image import ImageDataGenerator\n",
    "from keras import optimizers\n",
    "\n",
    "# 应用数据增强\n",
    "train_datagen = ImageDataGenerator(\n",
    "    rescale = 1./255,\n",
    "    rotation_range=40,\n",
    "    width_shift_range=0.2,\n",
    "    height_shift_range=0.2,\n",
    "    shear_range=0.2,\n",
    "    zoom_range=0.2,\n",
    "    horizontal_flip=True,\n",
    "    fill_mode='nearest'\n",
    ")\n",
    "\n",
    "test_datagen = ImageDataGenerator(rescale=1./255)\n",
    "\n",
    "# python 生成器\n",
    "train_generator = train_datagen.flow_from_directory(\n",
    "    train_dir,\n",
    "    target_size=(150, 150),\n",
    "    batch_size=20,\n",
    "    class_mode='binary'\n",
    ")\n",
    "validation_generator = test_datagen.flow_from_directory(\n",
    "    validation_dir,\n",
    "    target_size=(150, 150),\n",
    "    batch_size=20,\n",
    "    class_mode='binary'\n",
    ")\n",
    "model.compile(loss='binary_crossentropy',\n",
    "              optimizer=optimizers.RMSprop(lr=2e-5),\n",
    "              metrics=['acc'])\n",
    "history = model.fit_generator(\n",
    "    train_generator,\n",
    "    steps_per_epoch=100,\n",
    "    epochs=30,\n",
    "    validation_data=validation_generator,\n",
    "    validation_steps=50\n",
    ")"
   ]
  },
  {
   "cell_type": "code",
   "execution_count": 16,
   "metadata": {
    "scrolled": true
   },
   "outputs": [
    {
     "data": {
      "image/png": "[encoded data removed]",
      "text/plain": [
       "<matplotlib.figure.Figure at 0x7fd515414940>"
      ]
     },
     "metadata": {
      "needs_background": "light"
     },
     "output_type": "display_data"
    },
    {
     "data": {
      "image/png": "[encoded data removed]",
      "text/plain": [
       "<matplotlib.figure.Figure at 0x7fd560d36048>"
      ]
     },
     "metadata": {
      "needs_background": "light"
     },
     "output_type": "display_data"
    }
   ],
   "source": [
    "acc = history.history['acc']\n",
    "val_acc = history.history['val_acc']\n",
    "loss = history.history['loss']\n",
    "val_loss = history.history['val_loss']\n",
    "\n",
    "epochs = range(1, 1+len(acc))\n",
    "\n",
    "plt.plot(epochs, acc, 'bo', label='Training acc')\n",
    "plt.plot(epochs, val_acc, 'b', label='Validation acc')\n",
    "plt.title('Training and Validation accuracy')\n",
    "plt.legend()\n",
    "\n",
    "plt.figure()\n",
    "\n",
    "plt.plot(epochs, loss, 'bo', label='Training loss')\n",
    "plt.plot(epochs, val_loss, 'b', label='Validation loss')\n",
    "plt.title('Training and Validation loss')\n",
    "plt.legend()\n",
    "\n",
    "plt.show()"
   ]
  },
  {
   "cell_type": "code",
   "execution_count": 17,
   "metadata": {},
   "outputs": [],
   "source": [
    "model.save('cats_and_dogs_VGG16.h5')"
   ]
  },
  {
   "cell_type": "markdown",
   "metadata": {},
   "source": [
    "### 微调模型：卷积基顶部和自定义网络，联合训练"
   ]
  },
  {
   "cell_type": "code",
   "execution_count": 19,
   "metadata": {},
   "outputs": [],
   "source": [
    "conv_base.trainable=True\n",
    "\n",
    "set_trainable = False\n",
    "for layer in conv_base.layers:    #冻结直到某一曾的所有层\n",
    "    if layer.name == 'block5_conv1':\n",
    "        set_trainable = True\n",
    "    if set_trainable:\n",
    "        layer.trainable = True\n",
    "    else:\n",
    "        layer.trainalbe = False"
   ]
  },
  {
   "cell_type": "code",
   "execution_count": 20,
   "metadata": {},
   "outputs": [
    {
     "name": "stdout",
     "output_type": "stream",
     "text": [
      "Epoch 1/100\n",
      "100/100 [==============================] - 140s 1s/step - loss: 0.3048 - acc: 0.8870 - val_loss: 0.1661 - val_acc: 0.9270\n",
      "Epoch 2/100\n",
      "100/100 [==============================] - 136s 1s/step - loss: 0.2029 - acc: 0.9130 - val_loss: 0.1994 - val_acc: 0.9350\n",
      "Epoch 3/100\n",
      "100/100 [==============================] - 136s 1s/step - loss: 0.1798 - acc: 0.9300 - val_loss: 0.1236 - val_acc: 0.9480\n",
      "Epoch 4/100\n",
      "100/100 [==============================] - 136s 1s/step - loss: 0.1388 - acc: 0.9440 - val_loss: 0.1506 - val_acc: 0.9460\n",
      "Epoch 5/100\n",
      "100/100 [==============================] - 138s 1s/step - loss: 0.1198 - acc: 0.9525 - val_loss: 0.1070 - val_acc: 0.9540\n",
      "Epoch 6/100\n",
      "100/100 [==============================] - 136s 1s/step - loss: 0.0952 - acc: 0.9640 - val_loss: 0.1063 - val_acc: 0.9580\n",
      "Epoch 7/100\n",
      "100/100 [==============================] - 136s 1s/step - loss: 0.1018 - acc: 0.9595 - val_loss: 0.2098 - val_acc: 0.9380\n",
      "Epoch 8/100\n",
      "100/100 [==============================] - 136s 1s/step - loss: 0.0798 - acc: 0.9695 - val_loss: 0.1277 - val_acc: 0.9500\n",
      "Epoch 9/100\n",
      "100/100 [==============================] - 136s 1s/step - loss: 0.0757 - acc: 0.9675 - val_loss: 0.1298 - val_acc: 0.9660\n",
      "Epoch 10/100\n",
      "100/100 [==============================] - 138s 1s/step - loss: 0.0777 - acc: 0.9680 - val_loss: 0.1093 - val_acc: 0.9550\n",
      "Epoch 11/100\n",
      "100/100 [==============================] - 140s 1s/step - loss: 0.0612 - acc: 0.9800 - val_loss: 0.0973 - val_acc: 0.9660\n",
      "Epoch 12/100\n",
      "100/100 [==============================] - 136s 1s/step - loss: 0.0493 - acc: 0.9820 - val_loss: 0.0968 - val_acc: 0.9690\n",
      "Epoch 13/100\n",
      "100/100 [==============================] - 136s 1s/step - loss: 0.0466 - acc: 0.9830 - val_loss: 0.1166 - val_acc: 0.9670\n",
      "Epoch 14/100\n",
      "100/100 [==============================] - 137s 1s/step - loss: 0.0647 - acc: 0.9760 - val_loss: 0.1062 - val_acc: 0.9650\n",
      "Epoch 15/100\n",
      "100/100 [==============================] - 137s 1s/step - loss: 0.0590 - acc: 0.9790 - val_loss: 0.1522 - val_acc: 0.9580\n",
      "Epoch 16/100\n",
      "100/100 [==============================] - 136s 1s/step - loss: 0.0517 - acc: 0.9825 - val_loss: 0.1006 - val_acc: 0.9710\n",
      "Epoch 17/100\n",
      "100/100 [==============================] - 136s 1s/step - loss: 0.0391 - acc: 0.9870 - val_loss: 0.2320 - val_acc: 0.9470\n",
      "Epoch 18/100\n",
      "100/100 [==============================] - 136s 1s/step - loss: 0.0391 - acc: 0.9880 - val_loss: 0.1225 - val_acc: 0.9700\n",
      "Epoch 19/100\n",
      "100/100 [==============================] - 137s 1s/step - loss: 0.0449 - acc: 0.9830 - val_loss: 0.1013 - val_acc: 0.9700\n",
      "Epoch 20/100\n",
      "100/100 [==============================] - 136s 1s/step - loss: 0.0387 - acc: 0.9840 - val_loss: 0.1188 - val_acc: 0.9630\n",
      "Epoch 21/100\n",
      "100/100 [==============================] - 137s 1s/step - loss: 0.0370 - acc: 0.9865 - val_loss: 0.1157 - val_acc: 0.9680\n",
      "Epoch 22/100\n",
      "100/100 [==============================] - 136s 1s/step - loss: 0.0371 - acc: 0.9880 - val_loss: 0.1333 - val_acc: 0.9710\n",
      "Epoch 23/100\n",
      "100/100 [==============================] - 136s 1s/step - loss: 0.0291 - acc: 0.9850 - val_loss: 0.1268 - val_acc: 0.9650\n",
      "Epoch 24/100\n",
      "100/100 [==============================] - 137s 1s/step - loss: 0.0332 - acc: 0.9905 - val_loss: 0.1141 - val_acc: 0.9710\n",
      "Epoch 25/100\n",
      "100/100 [==============================] - 136s 1s/step - loss: 0.0265 - acc: 0.9895 - val_loss: 0.1454 - val_acc: 0.9570\n",
      "Epoch 26/100\n",
      "100/100 [==============================] - 136s 1s/step - loss: 0.0306 - acc: 0.9915 - val_loss: 0.1239 - val_acc: 0.9700\n",
      "Epoch 27/100\n",
      "100/100 [==============================] - 136s 1s/step - loss: 0.0305 - acc: 0.9880 - val_loss: 0.1095 - val_acc: 0.9690\n",
      "Epoch 28/100\n",
      "100/100 [==============================] - 136s 1s/step - loss: 0.0302 - acc: 0.9920 - val_loss: 0.1009 - val_acc: 0.9670\n",
      "Epoch 29/100\n",
      "100/100 [==============================] - 136s 1s/step - loss: 0.0237 - acc: 0.9930 - val_loss: 0.1494 - val_acc: 0.9690\n",
      "Epoch 30/100\n",
      "100/100 [==============================] - 136s 1s/step - loss: 0.0115 - acc: 0.9960 - val_loss: 0.1306 - val_acc: 0.9720\n",
      "Epoch 31/100\n",
      "100/100 [==============================] - 137s 1s/step - loss: 0.0361 - acc: 0.9895 - val_loss: 0.1250 - val_acc: 0.9690\n",
      "Epoch 32/100\n",
      "100/100 [==============================] - 136s 1s/step - loss: 0.0190 - acc: 0.9940 - val_loss: 0.1146 - val_acc: 0.9700\n",
      "Epoch 33/100\n",
      "100/100 [==============================] - 136s 1s/step - loss: 0.0229 - acc: 0.9920 - val_loss: 0.1400 - val_acc: 0.9640\n",
      "Epoch 34/100\n",
      "100/100 [==============================] - 137s 1s/step - loss: 0.0215 - acc: 0.9940 - val_loss: 0.1518 - val_acc: 0.9680\n",
      "Epoch 35/100\n",
      "100/100 [==============================] - 136s 1s/step - loss: 0.0232 - acc: 0.9905 - val_loss: 0.1460 - val_acc: 0.9660\n",
      "Epoch 36/100\n",
      "100/100 [==============================] - 136s 1s/step - loss: 0.0197 - acc: 0.9920 - val_loss: 0.1547 - val_acc: 0.9610\n",
      "Epoch 37/100\n",
      "100/100 [==============================] - 138s 1s/step - loss: 0.0174 - acc: 0.9930 - val_loss: 0.1348 - val_acc: 0.9700\n",
      "Epoch 38/100\n",
      "100/100 [==============================] - 139s 1s/step - loss: 0.0310 - acc: 0.9930 - val_loss: 0.1254 - val_acc: 0.9770\n",
      "Epoch 39/100\n",
      "100/100 [==============================] - 138s 1s/step - loss: 0.0342 - acc: 0.9925 - val_loss: 0.0996 - val_acc: 0.9770\n",
      "Epoch 40/100\n",
      "100/100 [==============================] - 136s 1s/step - loss: 0.0231 - acc: 0.9935 - val_loss: 0.1186 - val_acc: 0.9770\n",
      "Epoch 41/100\n",
      "100/100 [==============================] - 135s 1s/step - loss: 0.0165 - acc: 0.9940 - val_loss: 0.1378 - val_acc: 0.9710\n",
      "Epoch 42/100\n",
      "100/100 [==============================] - 136s 1s/step - loss: 0.0147 - acc: 0.9955 - val_loss: 0.1206 - val_acc: 0.9760\n",
      "Epoch 43/100\n",
      "100/100 [==============================] - 136s 1s/step - loss: 0.0187 - acc: 0.9920 - val_loss: 0.0897 - val_acc: 0.9760\n",
      "Epoch 44/100\n",
      "100/100 [==============================] - 135s 1s/step - loss: 0.0229 - acc: 0.9935 - val_loss: 0.1061 - val_acc: 0.9710\n",
      "Epoch 45/100\n",
      "100/100 [==============================] - 136s 1s/step - loss: 0.0233 - acc: 0.9910 - val_loss: 0.0960 - val_acc: 0.9720\n",
      "Epoch 46/100\n",
      "100/100 [==============================] - 136s 1s/step - loss: 0.0171 - acc: 0.9960 - val_loss: 0.1224 - val_acc: 0.9740\n",
      "Epoch 47/100\n",
      "100/100 [==============================] - 135s 1s/step - loss: 0.0178 - acc: 0.9925 - val_loss: 0.2276 - val_acc: 0.9670\n",
      "Epoch 48/100\n",
      "100/100 [==============================] - 136s 1s/step - loss: 0.0225 - acc: 0.9920 - val_loss: 0.1034 - val_acc: 0.9730\n",
      "Epoch 49/100\n",
      "  3/100 [..............................] - ETA: 1:56 - loss: 0.0020 - acc: 1.0000"
     ]
    },
    {
     "ename": "KeyboardInterrupt",
     "evalue": "",
     "output_type": "error",
     "traceback": [
      "\u001b[0;31m---------------------------------------------------------------------------\u001b[0m",
      "\u001b[0;31mKeyboardInterrupt\u001b[0m                         Traceback (most recent call last)",
      "\u001b[0;32m<ipython-input-20-b9e084af3cd7>\u001b[0m in \u001b[0;36m<module>\u001b[0;34m\u001b[0m\n\u001b[1;32m      7\u001b[0m     \u001b[0mepochs\u001b[0m\u001b[0;34m=\u001b[0m\u001b[0;36m100\u001b[0m\u001b[0;34m,\u001b[0m\u001b[0;34m\u001b[0m\u001b[0m\n\u001b[1;32m      8\u001b[0m     \u001b[0mvalidation_data\u001b[0m\u001b[0;34m=\u001b[0m\u001b[0mvalidation_generator\u001b[0m\u001b[0;34m,\u001b[0m\u001b[0;34m\u001b[0m\u001b[0m\n\u001b[0;32m----> 9\u001b[0;31m     \u001b[0mvalidation_steps\u001b[0m\u001b[0;34m=\u001b[0m\u001b[0;36m50\u001b[0m\u001b[0;34m\u001b[0m\u001b[0m\n\u001b[0m\u001b[1;32m     10\u001b[0m )\n",
      "\u001b[0;32m~/anaconda3/envs/tensorflow/lib/python3.6/site-packages/keras/legacy/interfaces.py\u001b[0m in \u001b[0;36mwrapper\u001b[0;34m(*args, **kwargs)\u001b[0m\n\u001b[1;32m     89\u001b[0m                 warnings.warn('Update your `' + object_name + '` call to the ' +\n\u001b[1;32m     90\u001b[0m                               'Keras 2 API: ' + signature, stacklevel=2)\n\u001b[0;32m---> 91\u001b[0;31m             \u001b[0;32mreturn\u001b[0m \u001b[0mfunc\u001b[0m\u001b[0;34m(\u001b[0m\u001b[0;34m*\u001b[0m\u001b[0margs\u001b[0m\u001b[0;34m,\u001b[0m \u001b[0;34m**\u001b[0m\u001b[0mkwargs\u001b[0m\u001b[0;34m)\u001b[0m\u001b[0;34m\u001b[0m\u001b[0m\n\u001b[0m\u001b[1;32m     92\u001b[0m         \u001b[0mwrapper\u001b[0m\u001b[0;34m.\u001b[0m\u001b[0m_original_function\u001b[0m \u001b[0;34m=\u001b[0m \u001b[0mfunc\u001b[0m\u001b[0;34m\u001b[0m\u001b[0m\n\u001b[1;32m     93\u001b[0m         \u001b[0;32mreturn\u001b[0m \u001b[0mwrapper\u001b[0m\u001b[0;34m\u001b[0m\u001b[0m\n",
      "\u001b[0;32m~/anaconda3/envs/tensorflow/lib/python3.6/site-packages/keras/engine/training.py\u001b[0m in \u001b[0;36mfit_generator\u001b[0;34m(self, generator, steps_per_epoch, epochs, verbose, callbacks, validation_data, validation_steps, class_weight, max_queue_size, workers, use_multiprocessing, shuffle, initial_epoch)\u001b[0m\n\u001b[1;32m   1416\u001b[0m             \u001b[0muse_multiprocessing\u001b[0m\u001b[0;34m=\u001b[0m\u001b[0muse_multiprocessing\u001b[0m\u001b[0;34m,\u001b[0m\u001b[0;34m\u001b[0m\u001b[0m\n\u001b[1;32m   1417\u001b[0m             \u001b[0mshuffle\u001b[0m\u001b[0;34m=\u001b[0m\u001b[0mshuffle\u001b[0m\u001b[0;34m,\u001b[0m\u001b[0;34m\u001b[0m\u001b[0m\n\u001b[0;32m-> 1418\u001b[0;31m             initial_epoch=initial_epoch)\n\u001b[0m\u001b[1;32m   1419\u001b[0m \u001b[0;34m\u001b[0m\u001b[0m\n\u001b[1;32m   1420\u001b[0m     \u001b[0;34m@\u001b[0m\u001b[0minterfaces\u001b[0m\u001b[0;34m.\u001b[0m\u001b[0mlegacy_generator_methods_support\u001b[0m\u001b[0;34m\u001b[0m\u001b[0m\n",
      "\u001b[0;32m~/anaconda3/envs/tensorflow/lib/python3.6/site-packages/keras/engine/training_generator.py\u001b[0m in \u001b[0;36mfit_generator\u001b[0;34m(model, generator, steps_per_epoch, epochs, verbose, callbacks, validation_data, validation_steps, class_weight, max_queue_size, workers, use_multiprocessing, shuffle, initial_epoch)\u001b[0m\n\u001b[1;32m    215\u001b[0m                 outs = model.train_on_batch(x, y,\n\u001b[1;32m    216\u001b[0m                                             \u001b[0msample_weight\u001b[0m\u001b[0;34m=\u001b[0m\u001b[0msample_weight\u001b[0m\u001b[0;34m,\u001b[0m\u001b[0;34m\u001b[0m\u001b[0m\n\u001b[0;32m--> 217\u001b[0;31m                                             class_weight=class_weight)\n\u001b[0m\u001b[1;32m    218\u001b[0m \u001b[0;34m\u001b[0m\u001b[0m\n\u001b[1;32m    219\u001b[0m                 \u001b[0mouts\u001b[0m \u001b[0;34m=\u001b[0m \u001b[0mto_list\u001b[0m\u001b[0;34m(\u001b[0m\u001b[0mouts\u001b[0m\u001b[0;34m)\u001b[0m\u001b[0;34m\u001b[0m\u001b[0m\n",
      "\u001b[0;32m~/anaconda3/envs/tensorflow/lib/python3.6/site-packages/keras/engine/training.py\u001b[0m in \u001b[0;36mtrain_on_batch\u001b[0;34m(self, x, y, sample_weight, class_weight)\u001b[0m\n\u001b[1;32m   1215\u001b[0m             \u001b[0mins\u001b[0m \u001b[0;34m=\u001b[0m \u001b[0mx\u001b[0m \u001b[0;34m+\u001b[0m \u001b[0my\u001b[0m \u001b[0;34m+\u001b[0m \u001b[0msample_weights\u001b[0m\u001b[0;34m\u001b[0m\u001b[0m\n\u001b[1;32m   1216\u001b[0m         \u001b[0mself\u001b[0m\u001b[0;34m.\u001b[0m\u001b[0m_make_train_function\u001b[0m\u001b[0;34m(\u001b[0m\u001b[0;34m)\u001b[0m\u001b[0;34m\u001b[0m\u001b[0m\n\u001b[0;32m-> 1217\u001b[0;31m         \u001b[0moutputs\u001b[0m \u001b[0;34m=\u001b[0m \u001b[0mself\u001b[0m\u001b[0;34m.\u001b[0m\u001b[0mtrain_function\u001b[0m\u001b[0;34m(\u001b[0m\u001b[0mins\u001b[0m\u001b[0;34m)\u001b[0m\u001b[0;34m\u001b[0m\u001b[0m\n\u001b[0m\u001b[1;32m   1218\u001b[0m         \u001b[0;32mreturn\u001b[0m \u001b[0munpack_singleton\u001b[0m\u001b[0;34m(\u001b[0m\u001b[0moutputs\u001b[0m\u001b[0;34m)\u001b[0m\u001b[0;34m\u001b[0m\u001b[0m\n\u001b[1;32m   1219\u001b[0m \u001b[0;34m\u001b[0m\u001b[0m\n",
      "\u001b[0;32m~/anaconda3/envs/tensorflow/lib/python3.6/site-packages/keras/backend/tensorflow_backend.py\u001b[0m in \u001b[0;36m__call__\u001b[0;34m(self, inputs)\u001b[0m\n\u001b[1;32m   2719\u001b[0m                     \u001b[0;34m'In order to feed symbolic tensors to a Keras model '\u001b[0m\u001b[0;34m\u001b[0m\u001b[0m\n\u001b[1;32m   2720\u001b[0m                     'in TensorFlow, you need tensorflow 1.8 or higher.')\n\u001b[0;32m-> 2721\u001b[0;31m             \u001b[0;32mreturn\u001b[0m \u001b[0mself\u001b[0m\u001b[0;34m.\u001b[0m\u001b[0m_legacy_call\u001b[0m\u001b[0;34m(\u001b[0m\u001b[0minputs\u001b[0m\u001b[0;34m)\u001b[0m\u001b[0;34m\u001b[0m\u001b[0m\n\u001b[0m\u001b[1;32m   2722\u001b[0m \u001b[0;34m\u001b[0m\u001b[0m\n\u001b[1;32m   2723\u001b[0m \u001b[0;34m\u001b[0m\u001b[0m\n",
      "\u001b[0;32m~/anaconda3/envs/tensorflow/lib/python3.6/site-packages/keras/backend/tensorflow_backend.py\u001b[0m in \u001b[0;36m_legacy_call\u001b[0;34m(self, inputs)\u001b[0m\n\u001b[1;32m   2691\u001b[0m         \u001b[0msession\u001b[0m \u001b[0;34m=\u001b[0m \u001b[0mget_session\u001b[0m\u001b[0;34m(\u001b[0m\u001b[0;34m)\u001b[0m\u001b[0;34m\u001b[0m\u001b[0m\n\u001b[1;32m   2692\u001b[0m         updated = session.run(fetches=fetches, feed_dict=feed_dict,\n\u001b[0;32m-> 2693\u001b[0;31m                               **self.session_kwargs)\n\u001b[0m\u001b[1;32m   2694\u001b[0m         \u001b[0;32mreturn\u001b[0m \u001b[0mupdated\u001b[0m\u001b[0;34m[\u001b[0m\u001b[0;34m:\u001b[0m\u001b[0mlen\u001b[0m\u001b[0;34m(\u001b[0m\u001b[0mself\u001b[0m\u001b[0;34m.\u001b[0m\u001b[0moutputs\u001b[0m\u001b[0;34m)\u001b[0m\u001b[0;34m]\u001b[0m\u001b[0;34m\u001b[0m\u001b[0m\n\u001b[1;32m   2695\u001b[0m \u001b[0;34m\u001b[0m\u001b[0m\n",
      "\u001b[0;32m~/anaconda3/envs/tensorflow/lib/python3.6/site-packages/tensorflow/python/client/session.py\u001b[0m in \u001b[0;36mrun\u001b[0;34m(self, fetches, feed_dict, options, run_metadata)\u001b[0m\n\u001b[1;32m    903\u001b[0m     \u001b[0;32mtry\u001b[0m\u001b[0;34m:\u001b[0m\u001b[0;34m\u001b[0m\u001b[0m\n\u001b[1;32m    904\u001b[0m       result = self._run(None, fetches, feed_dict, options_ptr,\n\u001b[0;32m--> 905\u001b[0;31m                          run_metadata_ptr)\n\u001b[0m\u001b[1;32m    906\u001b[0m       \u001b[0;32mif\u001b[0m \u001b[0mrun_metadata\u001b[0m\u001b[0;34m:\u001b[0m\u001b[0;34m\u001b[0m\u001b[0m\n\u001b[1;32m    907\u001b[0m         \u001b[0mproto_data\u001b[0m \u001b[0;34m=\u001b[0m \u001b[0mtf_session\u001b[0m\u001b[0;34m.\u001b[0m\u001b[0mTF_GetBuffer\u001b[0m\u001b[0;34m(\u001b[0m\u001b[0mrun_metadata_ptr\u001b[0m\u001b[0;34m)\u001b[0m\u001b[0;34m\u001b[0m\u001b[0m\n",
      "\u001b[0;32m~/anaconda3/envs/tensorflow/lib/python3.6/site-packages/tensorflow/python/client/session.py\u001b[0m in \u001b[0;36m_run\u001b[0;34m(self, handle, fetches, feed_dict, options, run_metadata)\u001b[0m\n\u001b[1;32m   1138\u001b[0m     \u001b[0;32mif\u001b[0m \u001b[0mfinal_fetches\u001b[0m \u001b[0;32mor\u001b[0m \u001b[0mfinal_targets\u001b[0m \u001b[0;32mor\u001b[0m \u001b[0;34m(\u001b[0m\u001b[0mhandle\u001b[0m \u001b[0;32mand\u001b[0m \u001b[0mfeed_dict_tensor\u001b[0m\u001b[0;34m)\u001b[0m\u001b[0;34m:\u001b[0m\u001b[0;34m\u001b[0m\u001b[0m\n\u001b[1;32m   1139\u001b[0m       results = self._do_run(handle, final_targets, final_fetches,\n\u001b[0;32m-> 1140\u001b[0;31m                              feed_dict_tensor, options, run_metadata)\n\u001b[0m\u001b[1;32m   1141\u001b[0m     \u001b[0;32melse\u001b[0m\u001b[0;34m:\u001b[0m\u001b[0;34m\u001b[0m\u001b[0m\n\u001b[1;32m   1142\u001b[0m       \u001b[0mresults\u001b[0m \u001b[0;34m=\u001b[0m \u001b[0;34m[\u001b[0m\u001b[0;34m]\u001b[0m\u001b[0;34m\u001b[0m\u001b[0m\n",
      "\u001b[0;32m~/anaconda3/envs/tensorflow/lib/python3.6/site-packages/tensorflow/python/client/session.py\u001b[0m in \u001b[0;36m_do_run\u001b[0;34m(self, handle, target_list, fetch_list, feed_dict, options, run_metadata)\u001b[0m\n\u001b[1;32m   1319\u001b[0m     \u001b[0;32mif\u001b[0m \u001b[0mhandle\u001b[0m \u001b[0;32mis\u001b[0m \u001b[0;32mNone\u001b[0m\u001b[0;34m:\u001b[0m\u001b[0;34m\u001b[0m\u001b[0m\n\u001b[1;32m   1320\u001b[0m       return self._do_call(_run_fn, feeds, fetches, targets, options,\n\u001b[0;32m-> 1321\u001b[0;31m                            run_metadata)\n\u001b[0m\u001b[1;32m   1322\u001b[0m     \u001b[0;32melse\u001b[0m\u001b[0;34m:\u001b[0m\u001b[0;34m\u001b[0m\u001b[0m\n\u001b[1;32m   1323\u001b[0m       \u001b[0;32mreturn\u001b[0m \u001b[0mself\u001b[0m\u001b[0;34m.\u001b[0m\u001b[0m_do_call\u001b[0m\u001b[0;34m(\u001b[0m\u001b[0m_prun_fn\u001b[0m\u001b[0;34m,\u001b[0m \u001b[0mhandle\u001b[0m\u001b[0;34m,\u001b[0m \u001b[0mfeeds\u001b[0m\u001b[0;34m,\u001b[0m \u001b[0mfetches\u001b[0m\u001b[0;34m)\u001b[0m\u001b[0;34m\u001b[0m\u001b[0m\n",
      "\u001b[0;32m~/anaconda3/envs/tensorflow/lib/python3.6/site-packages/tensorflow/python/client/session.py\u001b[0m in \u001b[0;36m_do_call\u001b[0;34m(self, fn, *args)\u001b[0m\n\u001b[1;32m   1325\u001b[0m   \u001b[0;32mdef\u001b[0m \u001b[0m_do_call\u001b[0m\u001b[0;34m(\u001b[0m\u001b[0mself\u001b[0m\u001b[0;34m,\u001b[0m \u001b[0mfn\u001b[0m\u001b[0;34m,\u001b[0m \u001b[0;34m*\u001b[0m\u001b[0margs\u001b[0m\u001b[0;34m)\u001b[0m\u001b[0;34m:\u001b[0m\u001b[0;34m\u001b[0m\u001b[0m\n\u001b[1;32m   1326\u001b[0m     \u001b[0;32mtry\u001b[0m\u001b[0;34m:\u001b[0m\u001b[0;34m\u001b[0m\u001b[0m\n\u001b[0;32m-> 1327\u001b[0;31m       \u001b[0;32mreturn\u001b[0m \u001b[0mfn\u001b[0m\u001b[0;34m(\u001b[0m\u001b[0;34m*\u001b[0m\u001b[0margs\u001b[0m\u001b[0;34m)\u001b[0m\u001b[0;34m\u001b[0m\u001b[0m\n\u001b[0m\u001b[1;32m   1328\u001b[0m     \u001b[0;32mexcept\u001b[0m \u001b[0merrors\u001b[0m\u001b[0;34m.\u001b[0m\u001b[0mOpError\u001b[0m \u001b[0;32mas\u001b[0m \u001b[0me\u001b[0m\u001b[0;34m:\u001b[0m\u001b[0;34m\u001b[0m\u001b[0m\n\u001b[1;32m   1329\u001b[0m       \u001b[0mmessage\u001b[0m \u001b[0;34m=\u001b[0m \u001b[0mcompat\u001b[0m\u001b[0;34m.\u001b[0m\u001b[0mas_text\u001b[0m\u001b[0;34m(\u001b[0m\u001b[0me\u001b[0m\u001b[0;34m.\u001b[0m\u001b[0mmessage\u001b[0m\u001b[0;34m)\u001b[0m\u001b[0;34m\u001b[0m\u001b[0m\n",
      "\u001b[0;32m~/anaconda3/envs/tensorflow/lib/python3.6/site-packages/tensorflow/python/client/session.py\u001b[0m in \u001b[0;36m_run_fn\u001b[0;34m(feed_dict, fetch_list, target_list, options, run_metadata)\u001b[0m\n\u001b[1;32m   1310\u001b[0m       \u001b[0mself\u001b[0m\u001b[0;34m.\u001b[0m\u001b[0m_extend_graph\u001b[0m\u001b[0;34m(\u001b[0m\u001b[0;34m)\u001b[0m\u001b[0;34m\u001b[0m\u001b[0m\n\u001b[1;32m   1311\u001b[0m       return self._call_tf_sessionrun(\n\u001b[0;32m-> 1312\u001b[0;31m           options, feed_dict, fetch_list, target_list, run_metadata)\n\u001b[0m\u001b[1;32m   1313\u001b[0m \u001b[0;34m\u001b[0m\u001b[0m\n\u001b[1;32m   1314\u001b[0m     \u001b[0;32mdef\u001b[0m \u001b[0m_prun_fn\u001b[0m\u001b[0;34m(\u001b[0m\u001b[0mhandle\u001b[0m\u001b[0;34m,\u001b[0m \u001b[0mfeed_dict\u001b[0m\u001b[0;34m,\u001b[0m \u001b[0mfetch_list\u001b[0m\u001b[0;34m)\u001b[0m\u001b[0;34m:\u001b[0m\u001b[0;34m\u001b[0m\u001b[0m\n",
      "\u001b[0;32m~/anaconda3/envs/tensorflow/lib/python3.6/site-packages/tensorflow/python/client/session.py\u001b[0m in \u001b[0;36m_call_tf_sessionrun\u001b[0;34m(self, options, feed_dict, fetch_list, target_list, run_metadata)\u001b[0m\n\u001b[1;32m   1418\u001b[0m         return tf_session.TF_Run(\n\u001b[1;32m   1419\u001b[0m             \u001b[0mself\u001b[0m\u001b[0;34m.\u001b[0m\u001b[0m_session\u001b[0m\u001b[0;34m,\u001b[0m \u001b[0moptions\u001b[0m\u001b[0;34m,\u001b[0m \u001b[0mfeed_dict\u001b[0m\u001b[0;34m,\u001b[0m \u001b[0mfetch_list\u001b[0m\u001b[0;34m,\u001b[0m \u001b[0mtarget_list\u001b[0m\u001b[0;34m,\u001b[0m\u001b[0;34m\u001b[0m\u001b[0m\n\u001b[0;32m-> 1420\u001b[0;31m             status, run_metadata)\n\u001b[0m\u001b[1;32m   1421\u001b[0m \u001b[0;34m\u001b[0m\u001b[0m\n\u001b[1;32m   1422\u001b[0m   \u001b[0;32mdef\u001b[0m \u001b[0m_call_tf_sessionprun\u001b[0m\u001b[0;34m(\u001b[0m\u001b[0mself\u001b[0m\u001b[0;34m,\u001b[0m \u001b[0mhandle\u001b[0m\u001b[0;34m,\u001b[0m \u001b[0mfeed_dict\u001b[0m\u001b[0;34m,\u001b[0m \u001b[0mfetch_list\u001b[0m\u001b[0;34m)\u001b[0m\u001b[0;34m:\u001b[0m\u001b[0;34m\u001b[0m\u001b[0m\n",
      "\u001b[0;31mKeyboardInterrupt\u001b[0m: "
     ]
    }
   ],
   "source": [
    "model.compile(loss='binary_crossentropy',\n",
    "              optimizer=optimizers.RMSprop(lr=1e-5),\n",
    "              metrics=['acc'])\n",
    "history = model.fit_generator(\n",
    "    train_generator,\n",
    "    steps_per_epoch=100,\n",
    "    epochs=100,\n",
    "    validation_data=validation_generator,\n",
    "    validation_steps=50\n",
    ")"
   ]
  },
  {
   "cell_type": "code",
   "execution_count": 28,
   "metadata": {},
   "outputs": [
    {
     "data": {
      "image/png": "[encoded data removed]",
      "text/plain": [
       "<matplotlib.figure.Figure at 0x7fd514d7c898>"
      ]
     },
     "metadata": {
      "needs_background": "light"
     },
     "output_type": "display_data"
    },
    {
     "data": {
      "image/png": "[encoded data removed]",
      "text/plain": [
       "<matplotlib.figure.Figure at 0x7fd5175e8898>"
      ]
     },
     "metadata": {
      "needs_background": "light"
     },
     "output_type": "display_data"
    }
   ],
   "source": [
    "acc = history.history['acc']\n",
    "val_acc = history.history['val_acc']\n",
    "loss = history.history['loss']\n",
    "val_loss = history.history['val_loss']\n",
    "\n",
    "epochs = range(1, 1+len(acc))\n",
    "\n",
    "plt.plot(epochs, acc, 'bo', label='Training acc')\n",
    "plt.plot(epochs, val_acc, 'b', label='Validation acc')\n",
    "plt.title('Training and Validation accuracy')\n",
    "plt.legend()\n",
    "\n",
    "plt.figure()\n",
    "\n",
    "plt.plot(epochs, loss, 'bo', label='Training loss')\n",
    "plt.plot(epochs, val_loss, 'b', label='Validation loss')\n",
    "plt.title('Training and Validation loss')\n",
    "plt.legend()\n",
    "\n",
    "plt.show()"
   ]
  },
  {
   "cell_type": "code",
   "execution_count": 29,
   "metadata": {},
   "outputs": [
    {
     "name": "stdout",
     "output_type": "stream",
     "text": [
      "Found 1000 images belonging to 2 classes.\n",
      "test acc: 0.960999994278\n"
     ]
    }
   ],
   "source": [
    "test_generator = test_datagen.flow_from_directory(\n",
    "    test_dir,\n",
    "    target_size=(150,150),\n",
    "    batch_size=20,\n",
    "    class_mode='binary'\n",
    ")\n",
    "\n",
    "test_loss, test_acc = model.evaluate_generator(test_generator, steps=50)\n",
    "print('test acc:', test_acc)"
   ]
  },
  {
   "cell_type": "code",
   "execution_count": null,
   "metadata": {},
   "outputs": [],
   "source": []
  }
 ],
 "metadata": {
  "kernelspec": {
   "display_name": "Python 3",
   "language": "python",
   "name": "python3"
  },
  "language_info": {
   "codemirror_mode": {
    "name": "ipython",
    "version": 3
   },
   "file_extension": ".py",
   "mimetype": "text/x-python",
   "name": "python",
   "nbconvert_exporter": "python",
   "pygments_lexer": "ipython3",
   "version": "3.6.0"
  }
 },
 "nbformat": 4,
 "nbformat_minor": 2
}
